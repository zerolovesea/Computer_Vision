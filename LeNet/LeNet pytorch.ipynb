{
 "cells": [
  {
   "cell_type": "markdown",
   "metadata": {},
   "source": [
    "# LeNet"
   ]
  },
  {
   "cell_type": "code",
   "execution_count": 11,
   "metadata": {},
   "outputs": [],
   "source": [
    "import torch\n",
    "import torch.nn as nn\n",
    "import torchvision\n",
    "from torchvision import transforms\n",
    "import torch.nn.functional as F\n",
    "\n",
    "import numpy as np\n",
    "import pandas as pd\n",
    "import matplotlib.pyplot as plt\n",
    "%matplotlib inline"
   ]
  },
  {
   "attachments": {},
   "cell_type": "markdown",
   "metadata": {},
   "source": [
    "# 网络架构"
   ]
  },
  {
   "cell_type": "code",
   "execution_count": 12,
   "metadata": {},
   "outputs": [],
   "source": [
    "# 定义网络结构\n",
    "class LeNet(nn.Module):\n",
    "    def __init__(self):\n",
    "        super(LeNet, self).__init__()\n",
    "        \n",
    "        # 第一层卷积层\n",
    "        self.conv1 = nn.Conv2d(in_channels=1, out_channels=6, kernel_size=5)\n",
    "        self.relu1 = nn.ReLU()\n",
    "        self.avgpool1 = nn.AvgPool2d(kernel_size=2, stride=2)\n",
    "        \n",
    "        # 第二层卷积层\n",
    "        self.conv2 = nn.Conv2d(in_channels=6, out_channels=16, kernel_size=5)\n",
    "        self.relu2 = nn.ReLU()\n",
    "        self.avgpool2 = nn.AvgPool2d(kernel_size=2, stride=2)\n",
    "        \n",
    "        # 全连接层\n",
    "        self.fc1 = nn.Linear(in_features=16 * 5 * 5, out_features=120)\n",
    "        self.relu3 = nn.ReLU()\n",
    "        self.fc2 = nn.Linear(in_features=120, out_features=84)\n",
    "        self.relu4 = nn.ReLU()\n",
    "        self.fc3 = nn.Linear(in_features=84, out_features=10)\n",
    "\n",
    "    def forward(self, x):\n",
    "        x = self.conv1(x)\n",
    "        x = self.relu1(x)\n",
    "        x = self.avgpool1(x)\n",
    "        \n",
    "        x = self.conv2(x)\n",
    "        x = self.relu2(x)\n",
    "        x = self.avgpool2(x)\n",
    "        \n",
    "        x = torch.flatten(x, start_dim=1)\n",
    "        x = self.fc1(x)\n",
    "        x = self.relu3(x)\n",
    "        x = self.fc2(x)\n",
    "        x = self.relu4(x)\n",
    "        x = self.fc3(x)\n",
    "        \n",
    "        return x\n",
    "            "
   ]
  },
  {
   "cell_type": "code",
   "execution_count": 13,
   "metadata": {},
   "outputs": [
    {
     "name": "stdout",
     "output_type": "stream",
     "text": [
      "LeNet(\n",
      "  (conv1): Conv2d(1, 6, kernel_size=(5, 5), stride=(1, 1))\n",
      "  (relu1): ReLU()\n",
      "  (avgpool1): AvgPool2d(kernel_size=2, stride=2, padding=0)\n",
      "  (conv2): Conv2d(6, 16, kernel_size=(5, 5), stride=(1, 1))\n",
      "  (relu2): ReLU()\n",
      "  (avgpool2): AvgPool2d(kernel_size=2, stride=2, padding=0)\n",
      "  (fc1): Linear(in_features=400, out_features=120, bias=True)\n",
      "  (relu3): ReLU()\n",
      "  (fc2): Linear(in_features=120, out_features=84, bias=True)\n",
      "  (relu4): ReLU()\n",
      "  (fc3): Linear(in_features=84, out_features=10, bias=True)\n",
      ")\n"
     ]
    }
   ],
   "source": [
    "model = LeNet()\n",
    "print(model)"
   ]
  },
  {
   "attachments": {},
   "cell_type": "markdown",
   "metadata": {},
   "source": [
    "# 训练函数"
   ]
  },
  {
   "cell_type": "code",
   "execution_count": 24,
   "metadata": {},
   "outputs": [],
   "source": [
    "def train(net,train_data,valid_data,epochs,optimizer,criterion):\n",
    "\n",
    "    train_loss_history = []\n",
    "    valid_loss_history = []\n",
    "\n",
    "    # 训练部分\n",
    "    for i in range(epochs):\n",
    "        train_loss = 0\n",
    "        train_acc = 0 \n",
    "        net.train() # 切换为训练模式\n",
    "        for i,data in enumerate(train_data):\n",
    "            inputs,labels = data # 获取数据，分别为输入和标签\n",
    "            inputs,labels = inputs.to(device),labels.to(device) \n",
    "            optimizer.zero_grad() # 梯度清零\n",
    "            outputs = net(inputs) # 前向传播\n",
    "\n",
    "            loss = criterion(outputs,labels) # 计算损失\n",
    "            loss.backward() # 反向传播\n",
    "            optimizer.step() # 更新参数\n",
    "            train_loss += loss.item() # 累加损失\n",
    "\n",
    "            _,pred = outputs.max(1) # 找到概率最大的下标，即预测的类别，返回的是最大值和最大值的下标\n",
    "            num_correct = (pred == labels).sum().item() # 计算正确的个数\n",
    "            acc = num_correct / inputs.shape[0] # 计算精度\n",
    "            train_acc += acc # 累加精度\n",
    "        \n",
    "        train_loss_history.append(train_loss/len(train_data))\n",
    "            \n",
    "        print(\"epoch:{},train_loss:{:.4f},train_acc:{:.4f}\".format(i+1,train_loss/len(train_data),train_acc/len(train_data)))\n",
    "\n",
    "        # 验证部分\n",
    "        valid_loss = 0\n",
    "        valid_acc = 0\n",
    "        net.eval() # 验证模式\n",
    "        for i,data in enumerate(valid_data):\n",
    "            inputs,labels = data\n",
    "            outputs = net(inputs)\n",
    "            loss = criterion(outputs,labels)\n",
    "            valid_loss += loss.item()\n",
    "\n",
    "            _,pred = outputs.max(1)\n",
    "            num_correct = (pred == labels).sum().item()\n",
    "            acc = num_correct / inputs.shape[0]\n",
    "            valid_acc += acc\n",
    "        \n",
    "        valid_loss_history.append(valid_loss/len(valid_data))\n",
    "\n",
    "        print(\"epoch:{},valid_loss:{:.4f},valid_acc:{:.4f}\".format(i+1,valid_loss/len(valid_data),valid_acc/len(valid_data)))\n",
    "    \n",
    "    # 可视化    \n",
    "    plt.plot(train_loss_history)\n",
    "    plt.plot(valid_loss_history)\n",
    "    plt.title('Training Loss')\n",
    "    plt.xlabel('Epoch')\n",
    "    plt.ylabel('Loss')\n",
    "    plt.legend(['train','valid'])\n",
    "    plt.show()\n",
    "        \n"
   ]
  },
  {
   "attachments": {},
   "cell_type": "markdown",
   "metadata": {},
   "source": [
    "# 定义超参数及损失函数"
   ]
  },
  {
   "cell_type": "code",
   "execution_count": 15,
   "metadata": {},
   "outputs": [],
   "source": [
    "# 定义超参数\n",
    "epochs = 5\n",
    "lr = 0.001\n",
    "batch_size = 64\n",
    "\n",
    "# 定义优化器和损失函数\n",
    "optimizer = torch.optim.Adam(model.parameters(),lr=lr)\n",
    "criterion = nn.CrossEntropyLoss()\n",
    "\n",
    "# 定义设备\n",
    "device = torch.device(\"cuda:0\" if torch.cuda.is_available() else \"cpu\")\n",
    "print(device)"
   ]
  },
  {
   "attachments": {},
   "cell_type": "markdown",
   "metadata": {},
   "source": [
    "# 定义训练集和测试集"
   ]
  },
  {
   "cell_type": "code",
   "execution_count": 21,
   "metadata": {},
   "outputs": [],
   "source": [
    "'''\n",
    "在LeNet模型中，对输入数据集的预处理主要包括以下两个步骤：\n",
    "将输入图像调整为32x32大小\n",
    "将输入图像归一化到[-1, 1]范围内\n",
    "'''\n",
    "# 定义数据预处理\n",
    "transform = transforms.Compose([\n",
    "    transforms.Resize((32, 32)), # 将图像调整为32x32大小\n",
    "    transforms.ToTensor(),      # 将图像转换为Tensor格式\n",
    "    transforms.Normalize(mean=(0.5,), std=(0.5,)) # 将图像归一化到[-1, 1]范围内\n",
    "])\n",
    "\n",
    "\n",
    "# 定义训练集\n",
    "train_data = torchvision.datasets.MNIST(root=\"./data\",\n",
    "                                        train=True,\n",
    "                                        transform=transform,\n",
    "                                        download=True)\n",
    "\n",
    "# 验证集，用于验证模型的泛化能力，不参与训练\n",
    "valid_data = torchvision.datasets.MNIST(root=\"./data\",\n",
    "                                        train=False,\n",
    "                                        transform=transform,\n",
    "                                        download=True)\n",
    "\n",
    "# 定义数据加载器，用于把数据分成多个batch，每个batch的数量为batch_size\n",
    "train_loader = torch.utils.data.DataLoader(dataset=train_data,\n",
    "                                           batch_size=batch_size,\n",
    "                                           shuffle=True)\n",
    "valid_loader = torch.utils.data.DataLoader(dataset=valid_data,\n",
    "                                           batch_size=batch_size,\n",
    "                                           shuffle=False)\n",
    "\n",
    "# 调整dataset的大小\n",
    "train_data_size = len(train_data)\n",
    "valid_data_size = len(valid_data)\n",
    "\n"
   ]
  },
  {
   "cell_type": "code",
   "execution_count": 25,
   "metadata": {},
   "outputs": [
    {
     "name": "stdout",
     "output_type": "stream",
     "text": [
      "epoch:938,train_loss:0.0172,train_acc:0.9945\n",
      "epoch:157,valid_loss:0.0265,valid_acc:0.9918\n",
      "epoch:938,train_loss:0.0145,train_acc:0.9952\n",
      "epoch:157,valid_loss:0.0274,valid_acc:0.9911\n",
      "epoch:938,train_loss:0.0137,train_acc:0.9955\n",
      "epoch:157,valid_loss:0.0269,valid_acc:0.9924\n",
      "epoch:938,train_loss:0.0128,train_acc:0.9958\n",
      "epoch:157,valid_loss:0.0334,valid_acc:0.9905\n",
      "epoch:938,train_loss:0.0110,train_acc:0.9965\n",
      "epoch:157,valid_loss:0.0297,valid_acc:0.9917\n"
     ]
    },
    {
     "data": {
      "image/png": "[encoded data removed]",
      "text/plain": [
       "<Figure size 640x480 with 1 Axes>"
      ]
     },
     "metadata": {},
     "output_type": "display_data"
    }
   ],
   "source": [
    "# 开始训练\n",
    "train(model,train_loader,valid_loader,epochs,optimizer,criterion)"
   ]
  },
  {
   "attachments": {},
   "cell_type": "markdown",
   "metadata": {},
   "source": [
    "# 保存模型，加载模型，使用模型"
   ]
  },
  {
   "cell_type": "code",
   "execution_count": 26,
   "metadata": {},
   "outputs": [],
   "source": [
    "# 保存模型\n",
    "torch.save(model.state_dict(),\"./model/lenet.pth\")"
   ]
  },
  {
   "cell_type": "code",
   "execution_count": 27,
   "metadata": {},
   "outputs": [
    {
     "data": {
      "text/plain": [
       "<All keys matched successfully>"
      ]
     },
     "execution_count": 27,
     "metadata": {},
     "output_type": "execute_result"
    }
   ],
   "source": [
    "# 加载模型\n",
    "model.load_state_dict(torch.load(\"./model/lenet.pth\"))"
   ]
  },
  {
   "cell_type": "code",
   "execution_count": 29,
   "metadata": {},
   "outputs": [
    {
     "name": "stdout",
     "output_type": "stream",
     "text": [
      "test_acc:0.9917\n"
     ]
    }
   ],
   "source": [
    "# 测试模型\n",
    "test_data = torchvision.datasets.MNIST(root=\"./data\",train=False,transform=transform,download=True)\n",
    "\n",
    "test_loader = torch.utils.data.DataLoader(dataset=test_data,batch_size=batch_size,shuffle=False)\n",
    "\n",
    "test_acc = 0\n",
    "model.eval() # 测试模式\n",
    "for i,data in enumerate(test_loader):\n",
    "    inputs,labels = data\n",
    "    inputs,labels = inputs.to(device),labels.to(device)\n",
    "    outputs = model(inputs)\n",
    "    _,pred = outputs.max(1)\n",
    "    num_correct = (pred == labels).sum().item()\n",
    "    acc = num_correct / inputs.shape[0]\n",
    "    test_acc += acc\n",
    "\n",
    "print(\"test_acc:{:.4f}\".format(test_acc/len(test_loader)))"
   ]
  },
  {
   "cell_type": "code",
   "execution_count": 32,
   "metadata": {},
   "outputs": [
    {
     "name": "stdout",
     "output_type": "stream",
     "text": [
      "预测结果： tensor([7, 2, 1, 0, 4, 1, 4, 9, 5, 9, 0, 6, 9, 0, 1, 5, 9, 7, 3, 4, 9, 6, 6, 5,\n",
      "        4, 0, 7, 4, 0, 1, 3, 1, 3, 4, 7, 2, 7, 1, 2, 1, 1, 7, 4, 2, 3, 5, 1, 2,\n",
      "        4, 4, 6, 3, 5, 5, 6, 0, 4, 1, 9, 5, 7, 8, 9, 3])\n",
      "真实结果： tensor([7, 2, 1, 0, 4, 1, 4, 9, 5, 9, 0, 6, 9, 0, 1, 5, 9, 7, 3, 4, 9, 6, 6, 5,\n",
      "        4, 0, 7, 4, 0, 1, 3, 1, 3, 4, 7, 2, 7, 1, 2, 1, 1, 7, 4, 2, 3, 5, 1, 2,\n",
      "        4, 4, 6, 3, 5, 5, 6, 0, 4, 1, 9, 5, 7, 8, 9, 3])\n"
     ]
    },
    {
     "data": {
      "image/png": "[encoded data removed]",
      "text/plain": [
       "<Figure size 640x480 with 1 Axes>"
      ]
     },
     "metadata": {},
     "output_type": "display_data"
    }
   ],
   "source": [
    "# 预测\n",
    "model.eval()\n",
    "dataiter = iter(test_loader)\n",
    "images,labels = next(dataiter)\n",
    "images,labels = images.to(device),labels.to(device)\n",
    "outputs = model(images)\n",
    "_,pred = outputs.max(1)\n",
    "print(\"预测结果：\",pred)\n",
    "print(\"真实结果：\",labels)\n",
    "\n",
    "# 可视化\n",
    "plt.imshow(images[1].cpu().numpy().squeeze(),cmap=\"gray\")\n",
    "plt.show()\n"
   ]
  },
  {
   "cell_type": "code",
   "execution_count": null,
   "metadata": {},
   "outputs": [],
   "source": []
  }
 ],
 "metadata": {
  "kernelspec": {
   "display_name": "Python 3",
   "language": "python",
   "name": "python3"
  },
  "language_info": {
   "codemirror_mode": {
    "name": "ipython",
    "version": 3
   },
   "file_extension": ".py",
   "mimetype": "text/x-python",
   "name": "python",
   "nbconvert_exporter": "python",
   "pygments_lexer": "ipython3",
   "version": "3.11.0"
  },
  "orig_nbformat": 4
 },
 "nbformat": 4,
 "nbformat_minor": 2
}
